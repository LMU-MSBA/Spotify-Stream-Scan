{
 "cells": [
  {
   "cell_type": "markdown",
   "metadata": {},
   "source": [
    "# Set the client"
   ]
  },
  {
   "cell_type": "code",
   "execution_count": null,
   "metadata": {},
   "outputs": [],
   "source": [
    "import spotipy\n",
    "from spotipy.oauth2 import SpotifyClientCredentials\n",
    "\n",
    "import pandas as pd\n",
    "\n",
    "# Initialize Spotipy with your client credentials\n",
    "spotify = spotipy.Spotify(client_credentials_manager=SpotifyClientCredentials(client_id='ac04d37a2c594ed0a650ea64ba73206c',\n",
    "                                                                              client_secret='1e7516fc12d146f88e754a0cb8711a77'))"
   ]
  },
  {
   "cell_type": "markdown",
   "metadata": {},
   "source": [
    "# structure of artists info"
   ]
  },
  {
   "cell_type": "code",
   "execution_count": null,
   "metadata": {},
   "outputs": [],
   "source": [
    "results = spotify.search(q='genre:\"pop\"', type='artist')\n",
    "results"
   ]
  },
  {
   "cell_type": "markdown",
   "metadata": {},
   "source": [
    "# Fetch 1000 pop artists\n",
    "## Not sure how the API and the spotipy library determine this specific 1000 artists"
   ]
  },
  {
   "cell_type": "code",
   "execution_count": null,
   "metadata": {},
   "outputs": [],
   "source": [
    "def fetch_artists(genre, limit=50, total=1000):\n",
    "    unique_artist_uris = set()  # Set to track unique artist URIs\n",
    "    artists_info = []  # List to hold artist info dictionaries\n",
    "    offset = 0  # Start at the beginning of the results\n",
    "    request_count = 0  # Keep track of the number of requests made\n",
    "\n",
    "    while len(artists_info) < total:\n",
    "        print(f\"Fetching batch {request_count + 1} (offset {offset})...\")  # Log the current batch and offset\n",
    "        # Perform the search\n",
    "        result = spotify.search(q=f'genre:\"{genre}\"', type='artist', limit=limit, offset=offset)\n",
    "        for artist in result['artists']['items']:\n",
    "            if artist['uri'] not in unique_artist_uris:  # Check if the artist's URI is already in the set\n",
    "                # Log that a unique URI has been found and artist info is being added\n",
    "                print(f\"Unique URI found: {artist['uri']}. Adding {artist['name']}'s information to the list.\")\n",
    "                artists_info.append({\n",
    "                    'name': artist['name'],\n",
    "                    'followers': artist['followers']['total'],\n",
    "                    'uri': artist['uri'],\n",
    "                    'popularity': artist['popularity'],\n",
    "                    'genres': artist['genres']\n",
    "                })\n",
    "                unique_artist_uris.add(artist['uri'])  # Add the URI to the set to track uniqueness\n",
    "\n",
    "        batch_count = len(result['artists']['items'])\n",
    "        print(f\"Fetched {batch_count} artists. Total unique artists collected: {len(artists_info)}\")\n",
    "\n",
    "        if batch_count == 0:\n",
    "            print(\"No more artists found, ending search.\")\n",
    "            break  # Exit if no more artists are returned\n",
    "\n",
    "        offset += batch_count  # Prepare the offset for the next batch of results\n",
    "        request_count += 1  # Increment the request count\n",
    "\n",
    "        if len(artists_info) >= total:\n",
    "            print(f\"Reached the target of {total} artists, ending search.\")\n",
    "            break  # Break the loop if we have collected enough artists\n",
    "\n",
    "    return artists_info[:total]  # Return up to the requested number of artists\n",
    "\n",
    "\n"
   ]
  },
  {
   "cell_type": "markdown",
   "metadata": {},
   "source": [
    "# Call the function \n",
    "## ```fetch_artists```"
   ]
  },
  {
   "cell_type": "code",
   "execution_count": null,
   "metadata": {},
   "outputs": [],
   "source": [
    "# Fetch 1000 pop artists\n",
    "pop_artists_info = fetch_artists('pop', total=1000)\n",
    "print(f\"Number of artist info objects fetched: {len(pop_artists_info)}\")\n",
    "\n",
    "\n",
    "for artist in pop_artists_info:\n",
    "    print(f\"Name: {artist['name']}\")\n",
    "    print(f\"URI: {artist['uri']}\")\n",
    "    print(f\"Followers: {artist['followers']}\")\n",
    "    print(f\"Popularity: {artist['popularity']}\")\n",
    "    print(f\"Genres: {', '.join(artist['genres'])}\")\n",
    "    print()"
   ]
  },
  {
   "cell_type": "markdown",
   "metadata": {},
   "source": [
    "# Write the CSV, don't quite remember why I write it this way instead of a simple ```pd.to_csv```"
   ]
  },
  {
   "cell_type": "code",
   "execution_count": null,
   "metadata": {},
   "outputs": [],
   "source": [
    "import csv\n",
    "# Specify the CSV file name\n",
    "csv_file_name = 'pop_artists_info.csv'\n",
    "# Open the CSV file for writing\n",
    "with open(csv_file_name, mode='w', newline='', encoding='utf-8') as file:\n",
    "    # Define the CSV column names\n",
    "    fieldnames = ['name', 'followers', 'uri', 'popularity', 'genres']\n",
    "    \n",
    "    # Create a CSV DictWriter object\n",
    "    writer = csv.DictWriter(file, fieldnames=fieldnames)\n",
    "    \n",
    "    # Write the header row\n",
    "    writer.writeheader()\n",
    "    \n",
    "    # Iterate over each artist in the list\n",
    "    for artist in pop_artists_info:\n",
    "        # Convert the list of genres to a comma-separated string\n",
    "        artist['genres'] = ', '.join(artist['genres'])\n",
    "        \n",
    "        # Write the artist's information to the CSV file\n",
    "        writer.writerow(artist)\n",
    "\n",
    "print(f\"Artists information has been saved to '{csv_file_name}'.\")"
   ]
  },
  {
   "cell_type": "code",
   "execution_count": null,
   "metadata": {},
   "outputs": [],
   "source": [
    "#get the artist uri to a list for further use\n",
    "artist_uris = [artist['uri'] for artist in pop_artists_info]"
   ]
  },
  {
   "cell_type": "markdown",
   "metadata": {},
   "source": [
    "# Fetch album data"
   ]
  },
  {
   "cell_type": "code",
   "execution_count": null,
   "metadata": {},
   "outputs": [],
   "source": [
    "def get_artist_albums_by_type(uri_list):\n",
    "    album_data = []\n",
    "    album_types = ['album', 'single', 'compilation', 'appears_on']\n",
    "\n",
    "    def process_batch(batch):\n",
    "        for uri in batch:\n",
    "            artist_id = uri.split(':')[-1]\n",
    "            print(f\"Processing artist ID: {artist_id}\")\n",
    "            for album_type in album_types:\n",
    "                try:\n",
    "                    # Fetch albums from the artist's album endpoint\n",
    "                    print(f\"Fetching {album_type} albums...\")\n",
    "                    albums = spotify.artist_albums(artist_id, album_type=album_type, country='US', limit=50)\n",
    "                    album_items = albums['items']\n",
    "                    print(f\"Found {len(album_items)} {album_type} albums.\")\n",
    "                except spotipy.exceptions.SpotifyException as e:\n",
    "                    print(f\"An error occurred: {e}\")\n",
    "                    album_items = []\n",
    "\n",
    "                for album in album_items:\n",
    "                    # Only append the information available from the artist's album endpoint\n",
    "                    album_data.append({\n",
    "                        'Artist ID': artist_id,\n",
    "                        'Album Type': album_type,\n",
    "                        'Album ID': album['id'],\n",
    "                        'Album Name': album['name'],\n",
    "                        'Release Date': album['release_date'],\n",
    "                        'Total Tracks': album['total_tracks'],\n",
    "                    })\n",
    "\n",
    "    for i in range(0, len(uri_list), 10):  # Adjusted the batch processing to batches of 10\n",
    "        batch = uri_list[i:i+10]\n",
    "        process_batch(batch)\n",
    "\n",
    "    return pd.DataFrame(album_data)"
   ]
  },
  {
   "cell_type": "markdown",
   "metadata": {},
   "source": [
    "# Ignore this\n",
    "logging\n",
    "print i\n",
    "csv (processed_data.csv)\n"
   ]
  },
  {
   "cell_type": "markdown",
   "metadata": {},
   "source": [
    "# Call function ```get_artist_album_by_type```"
   ]
  },
  {
   "cell_type": "code",
   "execution_count": null,
   "metadata": {},
   "outputs": [],
   "source": [
    "df = get_artist_albums_by_type(artist_uris)"
   ]
  },
  {
   "cell_type": "markdown",
   "metadata": {},
   "source": [
    "# I accidentally deleted the step of saving the above df, but following is to get unique_album_ids for next step"
   ]
  },
  {
   "cell_type": "code",
   "execution_count": null,
   "metadata": {},
   "outputs": [],
   "source": [
    "#unique_album_ids for album.csv where album type = album\n",
    "df = pd.read_csv('./pop_artists_albums.csv')\n",
    "unique_album_ids = df[df['Album Type'] == 'album']['Album ID'].unique().tolist()\n",
    "len(unique_album_ids)\n",
    "unique_album_ids = unique_album_ids[:5]"
   ]
  },
  {
   "cell_type": "code",
   "execution_count": null,
   "metadata": {},
   "outputs": [],
   "source": [
    "# for testing if the fetching is working\n",
    "for album_id in unique_album_ids:\n",
    "    print(f\"Fetching tracks for album ID: {album_id}\")\n",
    "    album_tracks = spotify.album_tracks(album_id)\n",
    "    print(f\"Album ID: {album_id}\")\n",
    "    for track in album_tracks['items']:\n",
    "        print(f\"Track: {track['name']}\")"
   ]
  },
  {
   "cell_type": "markdown",
   "metadata": {},
   "source": [
    "# Fetch track data"
   ]
  },
  {
   "cell_type": "code",
   "execution_count": null,
   "metadata": {},
   "outputs": [],
   "source": [
    "import time\n",
    "\n",
    "def get_album_tracks_with_batches(album_ids, batch_size=20):\n",
    "    all_tracks_data = []\n",
    "    processed_albums = set()  # Track processed album IDs to avoid duplicates\n",
    "    total_batches = len(album_ids) // batch_size + (1 if len(album_ids) % batch_size > 0 else 0)\n",
    "\n",
    "    for batch_num in range(total_batches):\n",
    "        start_index = batch_num * batch_size\n",
    "        end_index = start_index + batch_size\n",
    "        batch = album_ids[start_index:end_index]\n",
    "        print(f\"Processing batch {batch_num + 1}/{total_batches}...\")\n",
    "\n",
    "        for album_id in batch:\n",
    "            if album_id in processed_albums:\n",
    "                print(f\"Album ID {album_id} has already been processed. Skipping.\")\n",
    "                continue\n",
    "\n",
    "            try:\n",
    "                print(f\"Processing album ID: {album_id}\")\n",
    "                tracks = spotify.album_tracks(album_id)\n",
    "                print(f\"API call successful for album ID {album_id}. Found {len(tracks['items'])} tracks.\")\n",
    "                \n",
    "                for track in tracks['items']:\n",
    "                    track_details = {\n",
    "                        'Album ID': album_id,\n",
    "                        'Track Name': track['name'],\n",
    "                        'Track ID': track['id'],\n",
    "                        'Artists': ', '.join(artist['name'] for artist in track['artists']),\n",
    "                        'Duration (ms)': track['duration_ms'],\n",
    "                        'Track Number': track['track_number']\n",
    "                    }\n",
    "                    print(f\"Processing track: {track['name']}\")\n",
    "                    all_tracks_data.append(track_details)\n",
    "\n",
    "                processed_albums.add(album_id)  # Mark as processed\n",
    "            except spotipy.SpotifyException as e:\n",
    "                print(f\"Spotify API error occurred while processing album ID {album_id}: {e}\")\n",
    "                if e.http_status == 429:\n",
    "                    retry_after = int(e.headers['Retry-After'])\n",
    "                    print(f\"Rate limit exceeded, waiting for {retry_after} seconds.\")\n",
    "                    time.sleep(retry_after + 1)\n",
    "                    print(\"Retrying...\")\n",
    "                    # Add logic to retry the failed album ID if necessary\n",
    "            except Exception as e:\n",
    "                print(f\"An unexpected error occurred while processing album ID {album_id}: {e}\")\n",
    "\n",
    "    return all_tracks_data\n",
    "\n",
    "\n"
   ]
  },
  {
   "cell_type": "markdown",
   "metadata": {},
   "source": [
    "# another function to fetch track data, just with more loggings, both fetching methods worked once but it stopped at one album id and the request is just hanging. Both function ideally works."
   ]
  },
  {
   "cell_type": "code",
   "execution_count": null,
   "metadata": {},
   "outputs": [],
   "source": [
    "import time\n",
    "\n",
    "def get_album_tracks_by_batch(album_ids, batch_size=20):\n",
    "    all_tracks_data = []\n",
    "    \n",
    "    def process_album_batch(batch):\n",
    "        for album_id in batch:\n",
    "            print(f\"Processing album ID: {album_id}\")\n",
    "            try:\n",
    "                # Fetch tracks from the album's endpoint\n",
    "                tracks = spotify.album_tracks(album_id)\n",
    "                print(f\"Found {len(tracks['items'])} tracks for album ID {album_id}.\")\n",
    "                \n",
    "                for track in tracks['items']:\n",
    "                    track_data = {\n",
    "                        'Album ID': album_id,\n",
    "                        'Track Name': track['name'],\n",
    "                        'Track ID': track['id'],\n",
    "                        'Artists': ', '.join(artist['name'] for artist in track['artists']),\n",
    "                        'Duration (ms)': track['duration_ms'],\n",
    "                        'Track Number': track['track_number']\n",
    "                    }\n",
    "                    all_tracks_data.append(track_data)\n",
    "            \n",
    "            except spotipy.exceptions.SpotifyException as e:\n",
    "                if e.http_status == 429:\n",
    "                    retry_after = int(e.headers['Retry-After'])\n",
    "                    print(f\"Rate limit exceeded, waiting for {retry_after} seconds before retrying.\")\n",
    "                    time.sleep(retry_after + 1)\n",
    "                    process_album_batch([album_id])  # Retry processing the current album\n",
    "                else:\n",
    "                    print(f\"An error occurred while fetching tracks for album ID {album_id}: {e}\")\n",
    "    \n",
    "    # Process album IDs in batches\n",
    "    for i in range(0, len(album_ids), batch_size):\n",
    "        batch = album_ids[i:i+batch_size]\n",
    "        process_album_batch(batch)\n",
    "\n",
    "    return all_tracks_data\n",
    "\n",
    "# Example usage with a list of album IDs\n",
    "# album_ids = ['album_id1', 'album_id2', ..., 'album_idN']\n",
    "# tracks_info = get_album_tracks_by_batch(album_ids)\n",
    "# This function will print logging information and return a list of track details\n"
   ]
  },
  {
   "cell_type": "markdown",
   "metadata": {},
   "source": [
    "# Calling the above two functions"
   ]
  },
  {
   "cell_type": "code",
   "execution_count": null,
   "metadata": {},
   "outputs": [],
   "source": [
    "get_album_tracks_with_batches(unique_album_ids)"
   ]
  },
  {
   "cell_type": "code",
   "execution_count": null,
   "metadata": {},
   "outputs": [],
   "source": [
    "get_album_tracks_by_batch(unique_album_ids)"
   ]
  },
  {
   "cell_type": "markdown",
   "metadata": {},
   "source": [
    "# below are some debugging processes"
   ]
  },
  {
   "cell_type": "code",
   "execution_count": null,
   "metadata": {},
   "outputs": [],
   "source": [
    "import time\n",
    "\n",
    "def fetch_tracks_simple(album_ids):\n",
    "    all_tracks = []\n",
    "\n",
    "    for album_id in album_ids:\n",
    "        try:\n",
    "            response = spotify.album_tracks(album_id)\n",
    "            tracks = response['items']\n",
    "            for track in tracks:\n",
    "                # Simplify the data you're collecting for this example\n",
    "                track_info = {'Track Name': track['name'], 'Track ID': track['id']}\n",
    "                all_tracks.append(track_info)\n",
    "            print(f\"Fetched tracks for album: {album_id}\")\n",
    "        except spotipy.SpotifyException as e:\n",
    "            if e.http_status == 429:\n",
    "                retry_after = e.headers.get('Retry-After', 1)\n",
    "                print(f\"Rate limited. Waiting for {retry_after} seconds.\")\n",
    "                time.sleep(int(retry_after))\n",
    "                # Retry the current album\n",
    "                continue\n",
    "            else:\n",
    "                print(f\"Error fetching tracks for album {album_id}: {e}\")\n",
    "        time.sleep(0.1)  # Short pause to mitigate rate limit risk\n",
    "\n",
    "    return all_tracks\n",
    "\n",
    "# Example usage\n",
    "# album_ids = ['some_album_id1', 'some_album_id2']\n",
    "# tracks = fetch_tracks_simple(album_ids)\n",
    "# print(tracks)\n"
   ]
  },
  {
   "cell_type": "code",
   "execution_count": null,
   "metadata": {},
   "outputs": [],
   "source": [
    "album_id = '1o59UpKw81iHR0HPiSkJR0'\n",
    "\n",
    "\n",
    "def fetch_tracks_for_album(album_id):\n",
    "    try:\n",
    "        tracks_info = spotify.album_tracks(album_id)\n",
    "        all_tracks = []\n",
    "        for track in tracks_info['items']:\n",
    "            track_details = {\n",
    "                'Track Name': track['name'],\n",
    "                'Track ID': track['id'],\n",
    "                'Duration (ms)': track['duration_ms'],\n",
    "                'Track Number': track['track_number'],\n",
    "                'Artists': \", \".join(artist['name'] for artist in track['artists'])\n",
    "            }\n",
    "            all_tracks.append(track_details)\n",
    "        \n",
    "        return all_tracks\n",
    "    except spotipy.SpotifyException as e:\n",
    "        if e.http_status == 429:\n",
    "            retry_after = int(e.headers['Retry-After'])\n",
    "            print(f\"Rate limit exceeded, waiting for {retry_after} seconds.\")\n",
    "            time.sleep(retry_after + 1)\n",
    "            return fetch_tracks_for_album(album_id)  # Retry after waiting\n",
    "        else:\n",
    "            print(f\"Failed to fetch tracks: {e}\")\n",
    "\n",
    "tracks = fetch_tracks_for_album(album_id)\n",
    "for track in tracks:\n",
    "    print(track)"
   ]
  },
  {
   "cell_type": "code",
   "execution_count": null,
   "metadata": {},
   "outputs": [],
   "source": [
    "\n",
    "spotify.album_tracks(album_id)"
   ]
  },
  {
   "cell_type": "code",
   "execution_count": null,
   "metadata": {},
   "outputs": [],
   "source": [
    "album_id"
   ]
  },
  {
   "cell_type": "code",
   "execution_count": null,
   "metadata": {},
   "outputs": [],
   "source": [
    "# The album ID you want to fetch information for\n",
    "album_id = '1o59UpKw81iHR0HPiSkJR0'\n",
    "\n",
    "# Fetch album information\n",
    "album = spotify.album(album_id)\n",
    "\n",
    "# Extracting basic information\n",
    "album_name = album['name']\n",
    "release_date = album['release_date']\n",
    "total_tracks = album['total_tracks']\n",
    "artists = [artist['name'] for artist in album['artists']]\n",
    "\n",
    "# Print the extracted information\n",
    "print(f\"Album Name: {album_name}\")\n",
    "print(f\"Release Date: {release_date}\")\n",
    "print(f\"Total Tracks: {total_tracks}\")\n",
    "print(f\"Artists: {', '.join(artists)}\")"
   ]
  },
  {
   "cell_type": "code",
   "execution_count": null,
   "metadata": {},
   "outputs": [],
   "source": [
    "import logging\n",
    "logger = logging.getLogger('spotipy')\n",
    "logger.setLevel(logging.DEBUG)\n",
    "handler = logging.StreamHandler()\n",
    "handler.setFormatter(logging.Formatter('%(asctime)s - %(name)s - %(levelname)s - %(message)s'))\n",
    "logger.addHandler(handler)\n"
   ]
  },
  {
   "cell_type": "code",
   "execution_count": null,
   "metadata": {},
   "outputs": [],
   "source": [
    "import requests\n",
    "import logging\n",
    "\n",
    "# Setup basic logging\n",
    "logging.basicConfig(level=logging.DEBUG)\n",
    "\n",
    "# Spotify API endpoint for fetching album details\n",
    "album_id = \"1o59UpKw81iHR0HPiSkJR0\"\n",
    "url = f\"https://api.spotify.com/v1/albums/{album_id}\"\n",
    "\n",
    "\n",
    "response = requests.get(url, headers=headers)\n",
    "\n",
    "# Log the response status code and body\n",
    "logging.info(f\"Response Code: {response.status_code}\")\n",
    "logging.info(f\"Response Body: {response.json()}\")\n",
    "\n",
    "if response.status_code == 200:\n",
    "    logging.info(\"Album information fetched successfully.\")\n",
    "else:\n",
    "    logging.error(f\"Failed to fetch album information: {response.json().get('error')}\")\n"
   ]
  },
  {
   "cell_type": "code",
   "execution_count": null,
   "metadata": {},
   "outputs": [],
   "source": [
    "album_id = \"1o59UpKw81iHR0HPiSkJR0\"\n",
    "album = spotify.album(album_id)\n",
    "\n",
    "print(album)"
   ]
  },
  {
   "cell_type": "code",
   "execution_count": null,
   "metadata": {},
   "outputs": [],
   "source": [
    "pip install --upgrade spotipy\n"
   ]
  },
  {
   "cell_type": "code",
   "execution_count": null,
   "metadata": {},
   "outputs": [],
   "source": [
    "from datetime import datetime\n",
    "\n",
    "# The expires_at value from your cache\n",
    "expires_at = 1712288000\n",
    "\n",
    "# Convert to a datetime object\n",
    "expiration_date = datetime.utcfromtimestamp(expires_at)\n",
    "\n",
    "# Print the expiration date in a readable format\n",
    "print(\"The token expires at:\", expiration_date)\n"
   ]
  },
  {
   "cell_type": "code",
   "execution_count": null,
   "metadata": {},
   "outputs": [],
   "source": [
    "len(tracks)"
   ]
  },
  {
   "cell_type": "code",
   "execution_count": null,
   "metadata": {},
   "outputs": [],
   "source": []
  }
 ],
 "metadata": {
  "kernelspec": {
   "display_name": "base",
   "language": "python",
   "name": "python3"
  },
  "language_info": {
   "codemirror_mode": {
    "name": "ipython",
    "version": 3
   },
   "file_extension": ".py",
   "mimetype": "text/x-python",
   "name": "python",
   "nbconvert_exporter": "python",
   "pygments_lexer": "ipython3",
   "version": "3.11.7"
  },
  "orig_nbformat": 4
 },
 "nbformat": 4,
 "nbformat_minor": 2
}
